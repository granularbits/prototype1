{
 "cells": [
  {
   "cell_type": "code",
   "execution_count": 89,
   "metadata": {
    "colab": {},
    "colab_type": "code",
    "collapsed": true,
    "id": "n5DqmPaZkiXj"
   },
   "outputs": [],
   "source": [
    "import pandas as pd\n",
    "import quandl\n",
    "import csv\n",
    "import matplotlib.pyplot as plt"
   ]
  },
  {
   "cell_type": "code",
   "execution_count": 90,
   "metadata": {
    "colab": {
     "base_uri": "https://localhost:8080/",
     "height": 846
    },
    "colab_type": "code",
    "collapsed": true,
    "executionInfo": {
     "elapsed": 1090,
     "status": "error",
     "timestamp": 1542641651467,
     "user": {
      "displayName": "k.v. Sreenidhi",
      "photoUrl": "",
      "userId": "15267809721058405623"
     },
     "user_tz": -330
    },
    "id": "f_vocrwIkiXr",
    "outputId": "d4c1e4a0-dfda-4899-df39-e7d3b5cff137"
   },
   "outputs": [],
   "source": [
    "df=pd.read_csv('DATA - Sheet1.csv')"
   ]
  },
  {
   "cell_type": "code",
   "execution_count": 91,
   "metadata": {
    "colab": {},
    "colab_type": "code",
    "id": "7ATdOtgokiXx",
    "outputId": "2b14ab34-de83-456a-f113-396ad972b4f2"
   },
   "outputs": [
    {
     "data": {
      "text/html": [
       "<div>\n",
       "<style>\n",
       "    .dataframe thead tr:only-child th {\n",
       "        text-align: right;\n",
       "    }\n",
       "\n",
       "    .dataframe thead th {\n",
       "        text-align: left;\n",
       "    }\n",
       "\n",
       "    .dataframe tbody tr th {\n",
       "        vertical-align: top;\n",
       "    }\n",
       "</style>\n",
       "<table border=\"1\" class=\"dataframe\">\n",
       "  <thead>\n",
       "    <tr style=\"text-align: right;\">\n",
       "      <th></th>\n",
       "      <th>Max.Temperature</th>\n",
       "      <th>Min.Temperature</th>\n",
       "      <th>Avg.Humidity</th>\n",
       "      <th>Rainfall</th>\n",
       "      <th>Positive</th>\n",
       "      <th>pf</th>\n",
       "      <th>Outbreak</th>\n",
       "    </tr>\n",
       "  </thead>\n",
       "  <tbody>\n",
       "    <tr>\n",
       "      <th>0</th>\n",
       "      <td>32</td>\n",
       "      <td>20</td>\n",
       "      <td>51.00</td>\n",
       "      <td>0.00</td>\n",
       "      <td>2158</td>\n",
       "      <td>114</td>\n",
       "      <td>0</td>\n",
       "    </tr>\n",
       "    <tr>\n",
       "      <th>1</th>\n",
       "      <td>36</td>\n",
       "      <td>27</td>\n",
       "      <td>85.60</td>\n",
       "      <td>17.00</td>\n",
       "      <td>10720</td>\n",
       "      <td>680</td>\n",
       "      <td>1</td>\n",
       "    </tr>\n",
       "    <tr>\n",
       "      <th>2</th>\n",
       "      <td>35</td>\n",
       "      <td>18</td>\n",
       "      <td>56.00</td>\n",
       "      <td>0.00</td>\n",
       "      <td>1250</td>\n",
       "      <td>123</td>\n",
       "      <td>0</td>\n",
       "    </tr>\n",
       "    <tr>\n",
       "      <th>3</th>\n",
       "      <td>34</td>\n",
       "      <td>25</td>\n",
       "      <td>60.20</td>\n",
       "      <td>9.06</td>\n",
       "      <td>4163</td>\n",
       "      <td>216</td>\n",
       "      <td>0</td>\n",
       "    </tr>\n",
       "    <tr>\n",
       "      <th>4</th>\n",
       "      <td>37</td>\n",
       "      <td>24</td>\n",
       "      <td>78.70</td>\n",
       "      <td>0.00</td>\n",
       "      <td>11828</td>\n",
       "      <td>718</td>\n",
       "      <td>1</td>\n",
       "    </tr>\n",
       "    <tr>\n",
       "      <th>5</th>\n",
       "      <td>36</td>\n",
       "      <td>30</td>\n",
       "      <td>90.50</td>\n",
       "      <td>47.00</td>\n",
       "      <td>10898</td>\n",
       "      <td>668</td>\n",
       "      <td>1</td>\n",
       "    </tr>\n",
       "    <tr>\n",
       "      <th>6</th>\n",
       "      <td>40</td>\n",
       "      <td>28</td>\n",
       "      <td>80.67</td>\n",
       "      <td>28.50</td>\n",
       "      <td>8840</td>\n",
       "      <td>464</td>\n",
       "      <td>1</td>\n",
       "    </tr>\n",
       "    <tr>\n",
       "      <th>7</th>\n",
       "      <td>36</td>\n",
       "      <td>30</td>\n",
       "      <td>90.00</td>\n",
       "      <td>19.50</td>\n",
       "      <td>9700</td>\n",
       "      <td>498</td>\n",
       "      <td>1</td>\n",
       "    </tr>\n",
       "    <tr>\n",
       "      <th>8</th>\n",
       "      <td>40</td>\n",
       "      <td>24</td>\n",
       "      <td>53.40</td>\n",
       "      <td>2.12</td>\n",
       "      <td>9310</td>\n",
       "      <td>549</td>\n",
       "      <td>0</td>\n",
       "    </tr>\n",
       "    <tr>\n",
       "      <th>9</th>\n",
       "      <td>34</td>\n",
       "      <td>27</td>\n",
       "      <td>67.80</td>\n",
       "      <td>0.00</td>\n",
       "      <td>13159</td>\n",
       "      <td>840</td>\n",
       "      <td>1</td>\n",
       "    </tr>\n",
       "    <tr>\n",
       "      <th>10</th>\n",
       "      <td>40</td>\n",
       "      <td>20</td>\n",
       "      <td>48.00</td>\n",
       "      <td>0.00</td>\n",
       "      <td>2190</td>\n",
       "      <td>132</td>\n",
       "      <td>0</td>\n",
       "    </tr>\n",
       "    <tr>\n",
       "      <th>11</th>\n",
       "      <td>42</td>\n",
       "      <td>24</td>\n",
       "      <td>52.00</td>\n",
       "      <td>2.19</td>\n",
       "      <td>3350</td>\n",
       "      <td>220</td>\n",
       "      <td>0</td>\n",
       "    </tr>\n",
       "    <tr>\n",
       "      <th>12</th>\n",
       "      <td>42</td>\n",
       "      <td>32</td>\n",
       "      <td>30.70</td>\n",
       "      <td>0.38</td>\n",
       "      <td>420</td>\n",
       "      <td>30</td>\n",
       "      <td>0</td>\n",
       "    </tr>\n",
       "    <tr>\n",
       "      <th>13</th>\n",
       "      <td>43</td>\n",
       "      <td>28</td>\n",
       "      <td>72.00</td>\n",
       "      <td>5.00</td>\n",
       "      <td>7527</td>\n",
       "      <td>417</td>\n",
       "      <td>0</td>\n",
       "    </tr>\n",
       "    <tr>\n",
       "      <th>14</th>\n",
       "      <td>33</td>\n",
       "      <td>23</td>\n",
       "      <td>76.00</td>\n",
       "      <td>8.00</td>\n",
       "      <td>10985</td>\n",
       "      <td>400</td>\n",
       "      <td>1</td>\n",
       "    </tr>\n",
       "    <tr>\n",
       "      <th>15</th>\n",
       "      <td>38</td>\n",
       "      <td>24</td>\n",
       "      <td>90.00</td>\n",
       "      <td>15.80</td>\n",
       "      <td>6540</td>\n",
       "      <td>340</td>\n",
       "      <td>0</td>\n",
       "    </tr>\n",
       "    <tr>\n",
       "      <th>16</th>\n",
       "      <td>40</td>\n",
       "      <td>27</td>\n",
       "      <td>70.00</td>\n",
       "      <td>0.00</td>\n",
       "      <td>11175</td>\n",
       "      <td>800</td>\n",
       "      <td>1</td>\n",
       "    </tr>\n",
       "    <tr>\n",
       "      <th>17</th>\n",
       "      <td>39</td>\n",
       "      <td>25</td>\n",
       "      <td>50.00</td>\n",
       "      <td>0.00</td>\n",
       "      <td>8131</td>\n",
       "      <td>320</td>\n",
       "      <td>0</td>\n",
       "    </tr>\n",
       "    <tr>\n",
       "      <th>18</th>\n",
       "      <td>40</td>\n",
       "      <td>26</td>\n",
       "      <td>80.00</td>\n",
       "      <td>3.54</td>\n",
       "      <td>5138</td>\n",
       "      <td>220</td>\n",
       "      <td>0</td>\n",
       "    </tr>\n",
       "    <tr>\n",
       "      <th>19</th>\n",
       "      <td>31</td>\n",
       "      <td>23</td>\n",
       "      <td>73.35</td>\n",
       "      <td>4.97</td>\n",
       "      <td>10659</td>\n",
       "      <td>620</td>\n",
       "      <td>1</td>\n",
       "    </tr>\n",
       "    <tr>\n",
       "      <th>20</th>\n",
       "      <td>37</td>\n",
       "      <td>23</td>\n",
       "      <td>86.81</td>\n",
       "      <td>8.00</td>\n",
       "      <td>9041</td>\n",
       "      <td>418</td>\n",
       "      <td>0</td>\n",
       "    </tr>\n",
       "    <tr>\n",
       "      <th>21</th>\n",
       "      <td>30</td>\n",
       "      <td>22</td>\n",
       "      <td>80.00</td>\n",
       "      <td>3.12</td>\n",
       "      <td>11265</td>\n",
       "      <td>567</td>\n",
       "      <td>1</td>\n",
       "    </tr>\n",
       "    <tr>\n",
       "      <th>22</th>\n",
       "      <td>34</td>\n",
       "      <td>25</td>\n",
       "      <td>77.98</td>\n",
       "      <td>1.75</td>\n",
       "      <td>9233</td>\n",
       "      <td>230</td>\n",
       "      <td>0</td>\n",
       "    </tr>\n",
       "  </tbody>\n",
       "</table>\n",
       "</div>"
      ],
      "text/plain": [
       "    Max.Temperature  Min.Temperature  Avg.Humidity  Rainfall  Positive   pf  \\\n",
       "0                32               20         51.00      0.00      2158  114   \n",
       "1                36               27         85.60     17.00     10720  680   \n",
       "2                35               18         56.00      0.00      1250  123   \n",
       "3                34               25         60.20      9.06      4163  216   \n",
       "4                37               24         78.70      0.00     11828  718   \n",
       "5                36               30         90.50     47.00     10898  668   \n",
       "6                40               28         80.67     28.50      8840  464   \n",
       "7                36               30         90.00     19.50      9700  498   \n",
       "8                40               24         53.40      2.12      9310  549   \n",
       "9                34               27         67.80      0.00     13159  840   \n",
       "10               40               20         48.00      0.00      2190  132   \n",
       "11               42               24         52.00      2.19      3350  220   \n",
       "12               42               32         30.70      0.38       420   30   \n",
       "13               43               28         72.00      5.00      7527  417   \n",
       "14               33               23         76.00      8.00     10985  400   \n",
       "15               38               24         90.00     15.80      6540  340   \n",
       "16               40               27         70.00      0.00     11175  800   \n",
       "17               39               25         50.00      0.00      8131  320   \n",
       "18               40               26         80.00      3.54      5138  220   \n",
       "19               31               23         73.35      4.97     10659  620   \n",
       "20               37               23         86.81      8.00      9041  418   \n",
       "21               30               22         80.00      3.12     11265  567   \n",
       "22               34               25         77.98      1.75      9233  230   \n",
       "\n",
       "    Outbreak  \n",
       "0          0  \n",
       "1          1  \n",
       "2          0  \n",
       "3          0  \n",
       "4          1  \n",
       "5          1  \n",
       "6          1  \n",
       "7          1  \n",
       "8          0  \n",
       "9          1  \n",
       "10         0  \n",
       "11         0  \n",
       "12         0  \n",
       "13         0  \n",
       "14         1  \n",
       "15         0  \n",
       "16         1  \n",
       "17         0  \n",
       "18         0  \n",
       "19         1  \n",
       "20         0  \n",
       "21         1  \n",
       "22         0  "
      ]
     },
     "execution_count": 91,
     "metadata": {},
     "output_type": "execute_result"
    }
   ],
   "source": [
    "df"
   ]
  },
  {
   "cell_type": "code",
   "execution_count": 92,
   "metadata": {
    "colab": {},
    "colab_type": "code",
    "id": "VIq_rEPckiX9",
    "outputId": "e418bd35-5eec-44f6-9e5b-8ea18e196d4a"
   },
   "outputs": [
    {
     "data": {
      "text/plain": [
       "array([[  3.20000000e+01,   2.00000000e+01,   5.10000000e+01,\n",
       "          0.00000000e+00,   2.15800000e+03,   1.14000000e+02],\n",
       "       [  3.60000000e+01,   2.70000000e+01,   8.56000000e+01,\n",
       "          1.70000000e+01,   1.07200000e+04,   6.80000000e+02],\n",
       "       [  3.50000000e+01,   1.80000000e+01,   5.60000000e+01,\n",
       "          0.00000000e+00,   1.25000000e+03,   1.23000000e+02],\n",
       "       [  3.40000000e+01,   2.50000000e+01,   6.02000000e+01,\n",
       "          9.06000000e+00,   4.16300000e+03,   2.16000000e+02],\n",
       "       [  3.70000000e+01,   2.40000000e+01,   7.87000000e+01,\n",
       "          0.00000000e+00,   1.18280000e+04,   7.18000000e+02],\n",
       "       [  3.60000000e+01,   3.00000000e+01,   9.05000000e+01,\n",
       "          4.70000000e+01,   1.08980000e+04,   6.68000000e+02],\n",
       "       [  4.00000000e+01,   2.80000000e+01,   8.06700000e+01,\n",
       "          2.85000000e+01,   8.84000000e+03,   4.64000000e+02],\n",
       "       [  3.60000000e+01,   3.00000000e+01,   9.00000000e+01,\n",
       "          1.95000000e+01,   9.70000000e+03,   4.98000000e+02],\n",
       "       [  4.00000000e+01,   2.40000000e+01,   5.34000000e+01,\n",
       "          2.12000000e+00,   9.31000000e+03,   5.49000000e+02],\n",
       "       [  3.40000000e+01,   2.70000000e+01,   6.78000000e+01,\n",
       "          0.00000000e+00,   1.31590000e+04,   8.40000000e+02],\n",
       "       [  4.00000000e+01,   2.00000000e+01,   4.80000000e+01,\n",
       "          0.00000000e+00,   2.19000000e+03,   1.32000000e+02],\n",
       "       [  4.20000000e+01,   2.40000000e+01,   5.20000000e+01,\n",
       "          2.19000000e+00,   3.35000000e+03,   2.20000000e+02],\n",
       "       [  4.20000000e+01,   3.20000000e+01,   3.07000000e+01,\n",
       "          3.80000000e-01,   4.20000000e+02,   3.00000000e+01],\n",
       "       [  4.30000000e+01,   2.80000000e+01,   7.20000000e+01,\n",
       "          5.00000000e+00,   7.52700000e+03,   4.17000000e+02],\n",
       "       [  3.30000000e+01,   2.30000000e+01,   7.60000000e+01,\n",
       "          8.00000000e+00,   1.09850000e+04,   4.00000000e+02],\n",
       "       [  3.80000000e+01,   2.40000000e+01,   9.00000000e+01,\n",
       "          1.58000000e+01,   6.54000000e+03,   3.40000000e+02],\n",
       "       [  4.00000000e+01,   2.70000000e+01,   7.00000000e+01,\n",
       "          0.00000000e+00,   1.11750000e+04,   8.00000000e+02],\n",
       "       [  3.90000000e+01,   2.50000000e+01,   5.00000000e+01,\n",
       "          0.00000000e+00,   8.13100000e+03,   3.20000000e+02],\n",
       "       [  4.00000000e+01,   2.60000000e+01,   8.00000000e+01,\n",
       "          3.54000000e+00,   5.13800000e+03,   2.20000000e+02],\n",
       "       [  3.10000000e+01,   2.30000000e+01,   7.33500000e+01,\n",
       "          4.97000000e+00,   1.06590000e+04,   6.20000000e+02],\n",
       "       [  3.70000000e+01,   2.30000000e+01,   8.68100000e+01,\n",
       "          8.00000000e+00,   9.04100000e+03,   4.18000000e+02],\n",
       "       [  3.00000000e+01,   2.20000000e+01,   8.00000000e+01,\n",
       "          3.12000000e+00,   1.12650000e+04,   5.67000000e+02],\n",
       "       [  3.40000000e+01,   2.50000000e+01,   7.79800000e+01,\n",
       "          1.75000000e+00,   9.23300000e+03,   2.30000000e+02]])"
      ]
     },
     "execution_count": 92,
     "metadata": {},
     "output_type": "execute_result"
    }
   ],
   "source": [
    "X= df.iloc[:,:-1].values\n",
    "X"
   ]
  },
  {
   "cell_type": "code",
   "execution_count": 93,
   "metadata": {
    "colab": {},
    "colab_type": "code",
    "id": "9raNjvo6kiYF",
    "outputId": "da8ea151-65fc-4b0a-b1c7-188e2db73d46"
   },
   "outputs": [
    {
     "data": {
      "text/plain": [
       "array([0, 1, 0, 0, 1, 1, 1, 1, 0, 1, 0, 0, 0, 0, 1, 0, 1, 0, 0, 1, 0, 1, 0], dtype=int64)"
      ]
     },
     "execution_count": 93,
     "metadata": {},
     "output_type": "execute_result"
    }
   ],
   "source": [
    "y= df.iloc[:,6].values\n",
    "y"
   ]
  },
  {
   "cell_type": "code",
   "execution_count": 94,
   "metadata": {
    "colab": {},
    "colab_type": "code",
    "collapsed": true,
    "id": "AaaRVSaikiYN",
    "outputId": "60faba2b-f6db-4ab8-8373-692b08e146b5"
   },
   "outputs": [],
   "source": [
    "from sklearn.cross_validation import train_test_split\n",
    "X_train, X_test, y_train, y_test= train_test_split(X,y,test_size=0.3,random_state=0)"
   ]
  },
  {
   "cell_type": "code",
   "execution_count": 95,
   "metadata": {
    "colab": {},
    "colab_type": "code",
    "id": "LI44eHH7kiYT",
    "outputId": "1c1cb85e-da79-478a-e4dc-97e29a20bc92"
   },
   "outputs": [
    {
     "data": {
      "text/plain": [
       "array([[  3.40000000e+01,   2.50000000e+01,   7.79800000e+01,\n",
       "          1.75000000e+00,   9.23300000e+03,   2.30000000e+02],\n",
       "       [  4.00000000e+01,   2.70000000e+01,   7.00000000e+01,\n",
       "          0.00000000e+00,   1.11750000e+04,   8.00000000e+02],\n",
       "       [  4.00000000e+01,   2.40000000e+01,   5.34000000e+01,\n",
       "          2.12000000e+00,   9.31000000e+03,   5.49000000e+02],\n",
       "       [  4.00000000e+01,   2.80000000e+01,   8.06700000e+01,\n",
       "          2.85000000e+01,   8.84000000e+03,   4.64000000e+02],\n",
       "       [  3.90000000e+01,   2.50000000e+01,   5.00000000e+01,\n",
       "          0.00000000e+00,   8.13100000e+03,   3.20000000e+02],\n",
       "       [  3.70000000e+01,   2.40000000e+01,   7.87000000e+01,\n",
       "          0.00000000e+00,   1.18280000e+04,   7.18000000e+02],\n",
       "       [  3.50000000e+01,   1.80000000e+01,   5.60000000e+01,\n",
       "          0.00000000e+00,   1.25000000e+03,   1.23000000e+02],\n",
       "       [  3.60000000e+01,   3.00000000e+01,   9.05000000e+01,\n",
       "          4.70000000e+01,   1.08980000e+04,   6.68000000e+02],\n",
       "       [  4.00000000e+01,   2.60000000e+01,   8.00000000e+01,\n",
       "          3.54000000e+00,   5.13800000e+03,   2.20000000e+02],\n",
       "       [  3.40000000e+01,   2.70000000e+01,   6.78000000e+01,\n",
       "          0.00000000e+00,   1.31590000e+04,   8.40000000e+02],\n",
       "       [  3.60000000e+01,   3.00000000e+01,   9.00000000e+01,\n",
       "          1.95000000e+01,   9.70000000e+03,   4.98000000e+02],\n",
       "       [  3.10000000e+01,   2.30000000e+01,   7.33500000e+01,\n",
       "          4.97000000e+00,   1.06590000e+04,   6.20000000e+02],\n",
       "       [  3.40000000e+01,   2.50000000e+01,   6.02000000e+01,\n",
       "          9.06000000e+00,   4.16300000e+03,   2.16000000e+02],\n",
       "       [  3.20000000e+01,   2.00000000e+01,   5.10000000e+01,\n",
       "          0.00000000e+00,   2.15800000e+03,   1.14000000e+02],\n",
       "       [  3.80000000e+01,   2.40000000e+01,   9.00000000e+01,\n",
       "          1.58000000e+01,   6.54000000e+03,   3.40000000e+02],\n",
       "       [  4.20000000e+01,   3.20000000e+01,   3.07000000e+01,\n",
       "          3.80000000e-01,   4.20000000e+02,   3.00000000e+01]])"
      ]
     },
     "execution_count": 95,
     "metadata": {},
     "output_type": "execute_result"
    }
   ],
   "source": [
    "X_train"
   ]
  },
  {
   "cell_type": "code",
   "execution_count": 96,
   "metadata": {
    "colab": {},
    "colab_type": "code",
    "id": "4lS22NsskiYZ",
    "outputId": "6e2acf3c-9204-40d7-8139-699c0b4b99eb"
   },
   "outputs": [
    {
     "data": {
      "text/plain": [
       "array([0, 1, 0, 1, 0, 1, 0, 1, 0, 1, 1, 1, 0, 0, 0, 0], dtype=int64)"
      ]
     },
     "execution_count": 96,
     "metadata": {},
     "output_type": "execute_result"
    }
   ],
   "source": [
    "y_train\n"
   ]
  },
  {
   "cell_type": "code",
   "execution_count": 97,
   "metadata": {
    "colab": {},
    "colab_type": "code",
    "id": "btgKQMkkkiYi",
    "outputId": "12f8cdca-7d5d-4453-da17-45ede6db3c44"
   },
   "outputs": [
    {
     "data": {
      "text/plain": [
       "array([[  4.20000000e+01,   2.40000000e+01,   5.20000000e+01,\n",
       "          2.19000000e+00,   3.35000000e+03,   2.20000000e+02],\n",
       "       [  4.00000000e+01,   2.00000000e+01,   4.80000000e+01,\n",
       "          0.00000000e+00,   2.19000000e+03,   1.32000000e+02],\n",
       "       [  3.00000000e+01,   2.20000000e+01,   8.00000000e+01,\n",
       "          3.12000000e+00,   1.12650000e+04,   5.67000000e+02],\n",
       "       [  3.30000000e+01,   2.30000000e+01,   7.60000000e+01,\n",
       "          8.00000000e+00,   1.09850000e+04,   4.00000000e+02],\n",
       "       [  3.70000000e+01,   2.30000000e+01,   8.68100000e+01,\n",
       "          8.00000000e+00,   9.04100000e+03,   4.18000000e+02],\n",
       "       [  3.60000000e+01,   2.70000000e+01,   8.56000000e+01,\n",
       "          1.70000000e+01,   1.07200000e+04,   6.80000000e+02],\n",
       "       [  4.30000000e+01,   2.80000000e+01,   7.20000000e+01,\n",
       "          5.00000000e+00,   7.52700000e+03,   4.17000000e+02]])"
      ]
     },
     "execution_count": 97,
     "metadata": {},
     "output_type": "execute_result"
    }
   ],
   "source": [
    "X_test"
   ]
  },
  {
   "cell_type": "code",
   "execution_count": 98,
   "metadata": {
    "colab": {},
    "colab_type": "code",
    "id": "dSBqXOVAkiYs",
    "outputId": "a0e2f6cf-e78f-43ff-c153-3723910f2183"
   },
   "outputs": [
    {
     "data": {
      "text/plain": [
       "array([0, 0, 1, 1, 0, 1, 0], dtype=int64)"
      ]
     },
     "execution_count": 98,
     "metadata": {},
     "output_type": "execute_result"
    }
   ],
   "source": [
    "y_test"
   ]
  },
  {
   "cell_type": "code",
   "execution_count": 99,
   "metadata": {
    "colab": {},
    "colab_type": "code",
    "id": "bfSsPdyxkiY0",
    "outputId": "f0f7c757-9d76-4770-aa6f-e49c4839542d"
   },
   "outputs": [
    {
     "data": {
      "text/plain": [
       "LogisticRegression(C=1.0, class_weight=None, dual=False, fit_intercept=True,\n",
       "          intercept_scaling=1, max_iter=100, multi_class='ovr', n_jobs=1,\n",
       "          penalty='l2', random_state=None, solver='liblinear', tol=0.0001,\n",
       "          verbose=0, warm_start=False)"
      ]
     },
     "execution_count": 99,
     "metadata": {},
     "output_type": "execute_result"
    }
   ],
   "source": [
    "from sklearn.linear_model import LogisticRegression\n",
    "regressor=LogisticRegression()\n",
    "regressor.fit(X_train,y_train)"
   ]
  },
  {
   "cell_type": "code",
   "execution_count": 100,
   "metadata": {
    "colab": {},
    "colab_type": "code",
    "collapsed": true,
    "id": "KfIYvYxekiY8"
   },
   "outputs": [],
   "source": [
    "y_pred=regressor.predict(X_test)"
   ]
  },
  {
   "cell_type": "code",
   "execution_count": 101,
   "metadata": {
    "colab": {},
    "colab_type": "code",
    "id": "tzTn5tBukiZA",
    "outputId": "839d0286-e1d5-4407-cbc1-2c8a28b8a3b7"
   },
   "outputs": [
    {
     "data": {
      "text/plain": [
       "array([0, 0, 1, 0, 0, 1, 0], dtype=int64)"
      ]
     },
     "execution_count": 101,
     "metadata": {},
     "output_type": "execute_result"
    }
   ],
   "source": [
    "y_pred"
   ]
  },
  {
   "cell_type": "code",
   "execution_count": 102,
   "metadata": {
    "colab": {},
    "colab_type": "code",
    "id": "_alPvzlAkiZG",
    "outputId": "22351213-c473-48bf-baf6-31702c2281d5"
   },
   "outputs": [
    {
     "data": {
      "text/plain": [
       "array([0, 0, 1, 1, 0, 1, 0], dtype=int64)"
      ]
     },
     "execution_count": 102,
     "metadata": {},
     "output_type": "execute_result"
    }
   ],
   "source": [
    "y_test"
   ]
  },
  {
   "cell_type": "code",
   "execution_count": 103,
   "metadata": {
    "colab": {},
    "colab_type": "code",
    "collapsed": true,
    "id": "r3hYszdrkiZR"
   },
   "outputs": [],
   "source": [
    "from sklearn.metrics import accuracy_score"
   ]
  },
  {
   "cell_type": "code",
   "execution_count": 104,
   "metadata": {
    "colab": {},
    "colab_type": "code",
    "id": "z6CkNWUFkiZW",
    "outputId": "2f7e01ca-2463-4606-d598-f6fce764a66f"
   },
   "outputs": [
    {
     "data": {
      "text/plain": [
       "85.714285714285708"
      ]
     },
     "execution_count": 104,
     "metadata": {},
     "output_type": "execute_result"
    }
   ],
   "source": [
    "accuracy_score(y_test,y_pred)*100"
   ]
  },
  {
   "cell_type": "code",
   "execution_count": 105,
   "metadata": {
    "colab": {
     "base_uri": "https://localhost:8080/",
     "height": 197
    },
    "colab_type": "code",
    "executionInfo": {
     "elapsed": 1298,
     "status": "error",
     "timestamp": 1542641118137,
     "user": {
      "displayName": "k.v. Sreenidhi",
      "photoUrl": "",
      "userId": "15267809721058405623"
     },
     "user_tz": -330
    },
    "id": "f7b5YvAakiZg",
    "outputId": "55444769-b8c8-4a85-9fb1-34ac93a4c541"
   },
   "outputs": [
    {
     "data": {
      "image/png": "[encoded data removed]",
      "text/plain": [
       "<matplotlib.figure.Figure at 0x22ebdf4db00>"
      ]
     },
     "metadata": {},
     "output_type": "display_data"
    }
   ],
   "source": [
    "plt.scatter(X_test[:,4] , y_test, c='g')\n",
    "plt.title(\"Actual labels\")\n",
    "plt.ylabel(\"Pred\")\n",
    "plt.xlabel(\"Positive\")\n",
    "plt.show()"
   ]
  },
  {
   "cell_type": "code",
   "execution_count": 106,
   "metadata": {},
   "outputs": [
    {
     "data": {
      "image/png": "[encoded data removed]",
      "text/plain": [
       "<matplotlib.figure.Figure at 0x22ebdf4da58>"
      ]
     },
     "metadata": {},
     "output_type": "display_data"
    }
   ],
   "source": [
    "plt.scatter(X_test[:,4] , y_pred, c='y')\n",
    "plt.title(\"Predicted Labels\")\n",
    "plt.ylabel(\"Pred\")\n",
    "plt.xlabel(\"Positive\")\n",
    "plt.show()"
   ]
  },
  {
   "cell_type": "code",
   "execution_count": 107,
   "metadata": {},
   "outputs": [
    {
     "data": {
      "image/png": "[encoded data removed]",
      "text/plain": [
       "<matplotlib.figure.Figure at 0x22ebe18a940>"
      ]
     },
     "metadata": {},
     "output_type": "display_data"
    }
   ],
   "source": [
    "plt.scatter(X_test[:,4] , y_pred, c='y')\n",
    "plt.scatter(X_test[:,4] , y_test, c='g')\n",
    "plt.title(\"Pred vs Actual\")\n",
    "plt.ylabel(\"Pred\")\n",
    "plt.xlabel(\"Positive\")\n",
    "plt.show()"
   ]
  },
  {
   "cell_type": "code",
   "execution_count": 108,
   "metadata": {
    "colab": {},
    "colab_type": "code",
    "id": "PSfbXTQ8kiZq"
   },
   "outputs": [
    {
     "name": "stdout",
     "output_type": "stream",
     "text": [
      "             precision    recall  f1-score   support\n",
      "\n",
      "          0       0.80      1.00      0.89         4\n",
      "          1       1.00      0.67      0.80         3\n",
      "\n",
      "avg / total       0.89      0.86      0.85         7\n",
      "\n"
     ]
    }
   ],
   "source": [
    "from sklearn.metrics import classification_report\n",
    "print(classification_report(y_test, y_pred))"
   ]
  }
 ],
 "metadata": {
  "colab": {
   "name": "Untitled1-Copy1.ipynb",
   "provenance": [],
   "version": "0.3.2"
  },
  "kernelspec": {
   "display_name": "Python 3",
   "language": "python",
   "name": "python3"
  },
  "language_info": {
   "codemirror_mode": {
    "name": "ipython",
    "version": 3
   },
   "file_extension": ".py",
   "mimetype": "text/x-python",
   "name": "python",
   "nbconvert_exporter": "python",
   "pygments_lexer": "ipython3",
   "version": "3.6.3"
  }
 },
 "nbformat": 4,
 "nbformat_minor": 1
}
